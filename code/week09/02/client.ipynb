{
 "cells": [
  {
   "cell_type": "code",
   "execution_count": 1,
   "id": "6b2299b0",
   "metadata": {},
   "outputs": [
    {
     "name": "stdout",
     "output_type": "stream",
     "text": [
      "요청할 파일 이름: src.jpg\n",
      "파일 src.jpg (seq : 1) is received\n",
      "파일 src.jpg (seq : 2) is received\n",
      "파일 src.jpg (seq : 3) is received\n",
      "파일 src.jpg (seq : 4) is received\n",
      "파일 src.jpg (seq : 5) is received\n",
      "파일 src.jpg (seq : 6) is received\n",
      "파일 src.jpg (seq : 7) is received\n",
      "파일 src.jpg (seq : 8) is received\n",
      "파일 src.jpg (seq : 9) is received\n",
      "파일 src.jpg (seq : 10) is received\n",
      "파일 src.jpg (seq : 11) is received\n",
      "파일 src.jpg (seq : 12) is received\n",
      "파일 src.jpg (seq : 13) is received\n",
      "파일 src.jpg (seq : 14) is received\n",
      "파일 src.jpg (seq : 15) is received\n",
      "파일 src.jpg (seq : 16) is received\n",
      "파일 src.jpg (seq : 17) is received\n",
      "파일 src.jpg (seq : 18) is received\n",
      "파일 src.jpg (seq : 19) is received\n",
      "파일 src.jpg (seq : 20) is received\n",
      "파일 src.jpg (seq : 21) is received\n",
      "파일 src.jpg (seq : 22) is received\n",
      "파일 src.jpg (seq : 23) is received\n",
      "파일 src.jpg (seq : 24) is received\n",
      "파일 src.jpg (seq : 25) is received\n",
      "파일 src.jpg (seq : 26) is received\n",
      "파일 src.jpg (seq : 27) is received\n",
      "파일 src.jpg (seq : 28) is received\n",
      "파일 src.jpg (seq : 29) is received\n",
      "파일 src.jpg (seq : 30) is received\n",
      "파일 src.jpg (seq : 31) is received\n",
      "파일 src.jpg (seq : 32) is received\n",
      "파일 src.jpg (seq : 33) is received\n",
      "파일 src.jpg (seq : 34) is received\n",
      "파일 src.jpg (seq : 35) is received\n",
      "파일 src.jpg (seq : 36) is received\n",
      "파일 src.jpg (seq : 37) is received\n",
      "파일 src.jpg (seq : 38) is received\n"
     ]
    }
   ],
   "source": [
    "from socket import *\n",
    "import os\n",
    "import sys\n",
    "import time\n",
    "\n",
    "Host = '192.168.55.235'\n",
    "Port = 6797\n",
    "\n",
    "clientSocket = socket(AF_INET, SOCK_STREAM)\n",
    "\n",
    "clientSocket.connect((Host,Port))\n",
    "\n",
    "message = input('요청할 파일 이름: ')\n",
    "clientSocket.sendall(message.encode())\n",
    "\n",
    "data = clientSocket.recv(4096)\n",
    "data_iter = 0\n",
    "\n",
    "os.chdir(\"C:\\\\Users\\\\MYpx\\\\SocketProgramming\\\\Ex_2\\\\client\")\n",
    "nowdir = os.getcwd()\n",
    "with open(nowdir+ \"\\\\\" + message, 'wb') as f:     #현재 dir에 filename으로 파일을 받는다\n",
    "\ttry:\n",
    "\t\twhile data:     #데이터가 있을 때까지\n",
    "\t\t\tf.write(data)     #4096바이트 쓴다\n",
    "\t\t\tdata_iter = data_iter + 1\n",
    "\t\t\tprint('파일 %s (seq : %d) is received' %(message, data_iter))\n",
    "\t\t\tdata = clientSocket.recv(4096)     #4096바이트를 받아 온다\n",
    "\t\t\ttime.sleep(0.5)\n",
    "\texcept Exception as ex:\n",
    "\t\tprint(ex)"
   ]
  },
  {
   "cell_type": "code",
   "execution_count": null,
   "id": "cf2736de",
   "metadata": {},
   "outputs": [],
   "source": []
  },
  {
   "cell_type": "code",
   "execution_count": null,
   "id": "20460b35",
   "metadata": {},
   "outputs": [],
   "source": []
  }
 ],
 "metadata": {
  "kernelspec": {
   "display_name": "Python 3 (ipykernel)",
   "language": "python",
   "name": "python3"
  },
  "language_info": {
   "codemirror_mode": {
    "name": "ipython",
    "version": 3
   },
   "file_extension": ".py",
   "mimetype": "text/x-python",
   "name": "python",
   "nbconvert_exporter": "python",
   "pygments_lexer": "ipython3",
   "version": "3.9.13"
  }
 },
 "nbformat": 4,
 "nbformat_minor": 5
}
